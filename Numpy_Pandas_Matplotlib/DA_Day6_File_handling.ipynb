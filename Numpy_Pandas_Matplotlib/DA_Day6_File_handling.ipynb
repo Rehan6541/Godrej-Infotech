{
 "cells": [
  {
   "cell_type": "code",
   "execution_count": 1,
   "id": "61f2eb33-4dff-4892-8f95-d236ba6ef9c5",
   "metadata": {},
   "outputs": [],
   "source": [
    "#File handling`abs+"
   ]
  },
  {
   "cell_type": "code",
   "execution_count": 3,
   "id": "26b55b97-beba-4034-8b8e-6e07bc34ea33",
   "metadata": {},
   "outputs": [
    {
     "data": {
      "text/plain": [
       "'C:\\\\Users\\\\Hp\\\\Godrej Training'"
      ]
     },
     "execution_count": 3,
     "metadata": {},
     "output_type": "execute_result"
    }
   ],
   "source": [
    "pwd"
   ]
  },
  {
   "cell_type": "code",
   "execution_count": 95,
   "id": "bcd7ed69-c4c2-425c-ac05-5dd6080c1e28",
   "metadata": {},
   "outputs": [
    {
     "data": {
      "text/plain": [
       "<_io.TextIOWrapper name='saturday.txt' mode='r' encoding='cp1252'>"
      ]
     },
     "execution_count": 95,
     "metadata": {},
     "output_type": "execute_result"
    }
   ],
   "source": [
    "open('saturday.txt')#default read"
   ]
  },
  {
   "cell_type": "code",
   "execution_count": 97,
   "id": "c5260195-4177-4661-b1ae-46556efb655d",
   "metadata": {},
   "outputs": [
    {
     "data": {
      "text/plain": [
       "<_io.TextIOWrapper name='saturday.txt' mode='r' encoding='cp1252'>"
      ]
     },
     "execution_count": 97,
     "metadata": {},
     "output_type": "execute_result"
    }
   ],
   "source": [
    "open('saturday.txt','r')#works only when the file is already created"
   ]
  },
  {
   "cell_type": "code",
   "execution_count": 99,
   "id": "3e0b9943-ceff-4806-a902-039b28f184d7",
   "metadata": {},
   "outputs": [
    {
     "data": {
      "text/plain": [
       "<_io.TextIOWrapper name='saturday.txt' mode='w' encoding='cp1252'>"
      ]
     },
     "execution_count": 99,
     "metadata": {},
     "output_type": "execute_result"
    }
   ],
   "source": [
    "open('saturday.txt','w')#writes in a file or if file not present it creates it"
   ]
  },
  {
   "cell_type": "code",
   "execution_count": 101,
   "id": "3f0e589f-6610-47f9-9025-ee8e9ed33d09",
   "metadata": {},
   "outputs": [
    {
     "data": {
      "text/plain": [
       "<_io.TextIOWrapper name='saturday.txt' mode='r' encoding='cp1252'>"
      ]
     },
     "execution_count": 101,
     "metadata": {},
     "output_type": "execute_result"
    }
   ],
   "source": [
    "open('saturday.txt')"
   ]
  },
  {
   "cell_type": "code",
   "execution_count": 103,
   "id": "33f9455c-ba24-4f16-af51-d008aee61c2d",
   "metadata": {},
   "outputs": [],
   "source": [
    "f=open('saturday.txt')"
   ]
  },
  {
   "cell_type": "code",
   "execution_count": 105,
   "id": "57f530ed-c4f2-4d6c-977b-f16ed9030160",
   "metadata": {},
   "outputs": [
    {
     "data": {
      "text/plain": [
       "_io.TextIOWrapper"
      ]
     },
     "execution_count": 105,
     "metadata": {},
     "output_type": "execute_result"
    }
   ],
   "source": [
    "type(f)"
   ]
  },
  {
   "cell_type": "code",
   "execution_count": 107,
   "id": "fb9f0c4e-b5d3-403e-8415-3f6ba36e2fd3",
   "metadata": {},
   "outputs": [],
   "source": [
    "f.close()#we must close the file"
   ]
  },
  {
   "cell_type": "code",
   "execution_count": 109,
   "id": "f6f369f7-a365-4c45-95ad-33eaf031f1d7",
   "metadata": {},
   "outputs": [],
   "source": [
    "try:\n",
    "    f=open('saturday.txt')\n",
    "finally:#will always execute irresceptive of anything\n",
    "    f.close()"
   ]
  },
  {
   "cell_type": "code",
   "execution_count": 111,
   "id": "59f921e0-025a-405c-9208-2a7a78cf244b",
   "metadata": {},
   "outputs": [
    {
     "ename": "UnsupportedOperation",
     "evalue": "not writable",
     "output_type": "error",
     "traceback": [
      "\u001b[1;31m---------------------------------------------------------------------------\u001b[0m",
      "\u001b[1;31mUnsupportedOperation\u001b[0m                      Traceback (most recent call last)",
      "Cell \u001b[1;32mIn[111], line 2\u001b[0m\n\u001b[0;32m      1\u001b[0m f\u001b[38;5;241m=\u001b[39m\u001b[38;5;28mopen\u001b[39m(\u001b[38;5;124m'\u001b[39m\u001b[38;5;124msaturday.txt\u001b[39m\u001b[38;5;124m'\u001b[39m)\n\u001b[1;32m----> 2\u001b[0m f\u001b[38;5;241m.\u001b[39mwrite(\u001b[38;5;124m\"\u001b[39m\u001b[38;5;124mHello Everyone!!!!\u001b[39m\u001b[38;5;124m\"\u001b[39m)\n",
      "\u001b[1;31mUnsupportedOperation\u001b[0m: not writable"
     ]
    }
   ],
   "source": [
    "f=open('saturday.txt')\n",
    "f.write(\"Hello Everyone!!!!\")"
   ]
  },
  {
   "cell_type": "code",
   "execution_count": 113,
   "id": "cc82d493-5183-4917-aaa1-5f31d64379d1",
   "metadata": {},
   "outputs": [
    {
     "name": "stdout",
     "output_type": "stream",
     "text": [
      "Finally Executed!!!\n"
     ]
    },
    {
     "ename": "UnsupportedOperation",
     "evalue": "not writable",
     "output_type": "error",
     "traceback": [
      "\u001b[1;31m---------------------------------------------------------------------------\u001b[0m",
      "\u001b[1;31mUnsupportedOperation\u001b[0m                      Traceback (most recent call last)",
      "Cell \u001b[1;32mIn[113], line 3\u001b[0m\n\u001b[0;32m      1\u001b[0m \u001b[38;5;28;01mtry\u001b[39;00m:\n\u001b[0;32m      2\u001b[0m     f\u001b[38;5;241m=\u001b[39m\u001b[38;5;28mopen\u001b[39m(\u001b[38;5;124m\"\u001b[39m\u001b[38;5;124msaturday.txt\u001b[39m\u001b[38;5;124m\"\u001b[39m)\n\u001b[1;32m----> 3\u001b[0m     f\u001b[38;5;241m.\u001b[39mwrite(\u001b[38;5;124m\"\u001b[39m\u001b[38;5;124mHello Everyone!!!\u001b[39m\u001b[38;5;124m\"\u001b[39m)\n\u001b[0;32m      4\u001b[0m \u001b[38;5;28;01mfinally\u001b[39;00m:\n\u001b[0;32m      5\u001b[0m     \u001b[38;5;28mprint\u001b[39m(\u001b[38;5;124m\"\u001b[39m\u001b[38;5;124mFinally Executed!!!\u001b[39m\u001b[38;5;124m\"\u001b[39m)\n",
      "\u001b[1;31mUnsupportedOperation\u001b[0m: not writable"
     ]
    }
   ],
   "source": [
    "try:\n",
    "    f=open(\"saturday.txt\")\n",
    "    f.write(\"Hello Everyone!!!\")\n",
    "finally:\n",
    "    print(\"Finally Executed!!!\")\n",
    "    f.close()"
   ]
  },
  {
   "cell_type": "code",
   "execution_count": 115,
   "id": "8d487ba8-19bb-48e9-8bcf-dcb53e1bbe8d",
   "metadata": {},
   "outputs": [
    {
     "name": "stdout",
     "output_type": "stream",
     "text": [
      "some issue is there\n",
      "Finally Executed!!!\n"
     ]
    }
   ],
   "source": [
    "try:\n",
    "    f=open(\"saturday.txt\")\n",
    "    f.write(\"Hello Everyone!!!\")\n",
    "except:\n",
    "    print(\"some issue is there\")\n",
    "finally:\n",
    "    print(\"Finally Executed!!!\")\n",
    "    f.close()"
   ]
  },
  {
   "cell_type": "code",
   "execution_count": 117,
   "id": "23f317c0-965f-487f-8019-05f6644a1d7b",
   "metadata": {},
   "outputs": [
    {
     "ename": "SyntaxError",
     "evalue": "default 'except:' must be last (287068678.py, line 4)",
     "output_type": "error",
     "traceback": [
      "\u001b[1;36m  Cell \u001b[1;32mIn[117], line 4\u001b[1;36m\u001b[0m\n\u001b[1;33m    except:\u001b[0m\n\u001b[1;37m    ^\u001b[0m\n\u001b[1;31mSyntaxError\u001b[0m\u001b[1;31m:\u001b[0m default 'except:' must be last\n"
     ]
    }
   ],
   "source": [
    "try:\n",
    "    f=open(\"saturday.txt\")\n",
    "    f.write(\"Hello Everyone!!!\")\n",
    "except:\n",
    "    print(\"some issue is there\")\n",
    "except:#can use only one except\n",
    "    print(\"error\")\n",
    "finally:\n",
    "    print(\"Finally Executed!!!\")\n",
    "    f.close()"
   ]
  },
  {
   "cell_type": "code",
   "execution_count": 131,
   "id": "ecd9a1c4-4a06-406f-a631-c81273d0971b",
   "metadata": {},
   "outputs": [],
   "source": [
    "#with will itself will take care of closing the file\n",
    "with open(\"saturday.txt\",'w') as f:#best way to open the file,write in it and automatically clodse it\n",
    "    f.write(\"This is first line\\n\")\n",
    "    f.write(\"This is second\\n\")\n",
    "    f.write(\"This is third aa\\n\")"
   ]
  },
  {
   "cell_type": "code",
   "execution_count": 133,
   "id": "e44bfdd7-d713-49bc-a452-7feee6d33b92",
   "metadata": {},
   "outputs": [],
   "source": [
    "f=open(\"saturday.txt\")"
   ]
  },
  {
   "cell_type": "code",
   "execution_count": 135,
   "id": "a51bf124-25a5-40fd-86c2-9d8c007f2f4c",
   "metadata": {},
   "outputs": [
    {
     "data": {
      "text/plain": [
       "'This is first line\\nThis is second\\nThis is third aa\\n'"
      ]
     },
     "execution_count": 135,
     "metadata": {},
     "output_type": "execute_result"
    }
   ],
   "source": [
    "f.read()#we can read the content in the file\n",
    "#it reads character by character"
   ]
  },
  {
   "cell_type": "code",
   "execution_count": 137,
   "id": "e6c731ed-8197-4e59-901d-fdcac7ae26e6",
   "metadata": {},
   "outputs": [],
   "source": [
    "f.close()"
   ]
  },
  {
   "cell_type": "code",
   "execution_count": 139,
   "id": "f9420f00-161f-4365-825b-8bdf7023ba89",
   "metadata": {},
   "outputs": [
    {
     "name": "stdout",
     "output_type": "stream",
     "text": [
      "T\n",
      "h\n",
      "i\n",
      "s\n",
      " \n",
      "i\n",
      "s\n",
      " \n",
      "f\n",
      "i\n",
      "r\n",
      "s\n",
      "t\n",
      " \n",
      "l\n",
      "i\n",
      "n\n",
      "e\n",
      "\n",
      "\n",
      "T\n",
      "h\n",
      "i\n",
      "s\n",
      " \n",
      "i\n",
      "s\n",
      " \n",
      "s\n",
      "e\n",
      "c\n",
      "o\n",
      "n\n",
      "d\n",
      "\n",
      "\n",
      "T\n",
      "h\n",
      "i\n",
      "s\n",
      " \n",
      "i\n",
      "s\n",
      " \n",
      "t\n",
      "h\n",
      "i\n",
      "r\n",
      "d\n",
      " \n",
      "a\n",
      "a\n",
      "\n",
      "\n"
     ]
    }
   ],
   "source": [
    "f=open(\"saturday.txt\")\n",
    "for c in f.read():\n",
    "    print(c)"
   ]
  },
  {
   "cell_type": "code",
   "execution_count": 141,
   "id": "8e1621ff-3d2f-4b86-92d4-650495839f31",
   "metadata": {},
   "outputs": [
    {
     "data": {
      "text/plain": [
       "54"
      ]
     },
     "execution_count": 141,
     "metadata": {},
     "output_type": "execute_result"
    }
   ],
   "source": [
    "f.tell()#We can check where the character is pointing\n",
    "#tells where is the pointer"
   ]
  },
  {
   "cell_type": "code",
   "execution_count": 143,
   "id": "beb83d39-3e79-4c58-8625-a508834d7690",
   "metadata": {},
   "outputs": [
    {
     "data": {
      "text/plain": [
       "10"
      ]
     },
     "execution_count": 143,
     "metadata": {},
     "output_type": "execute_result"
    }
   ],
   "source": [
    "f.seek(10)#where we want to point the character er can point it using seek"
   ]
  },
  {
   "cell_type": "code",
   "execution_count": 145,
   "id": "ea3a0b00-1193-4a0d-8e79-0cbdccf8ca99",
   "metadata": {},
   "outputs": [
    {
     "data": {
      "text/plain": [
       "'rst line\\nThis is second\\nThis is third aa\\n'"
      ]
     },
     "execution_count": 145,
     "metadata": {},
     "output_type": "execute_result"
    }
   ],
   "source": [
    "f.read()"
   ]
  },
  {
   "cell_type": "code",
   "execution_count": 147,
   "id": "355df246-0814-41ba-9907-38ad46bb237d",
   "metadata": {},
   "outputs": [
    {
     "data": {
      "text/plain": [
       "54"
      ]
     },
     "execution_count": 147,
     "metadata": {},
     "output_type": "execute_result"
    }
   ],
   "source": [
    "f.tell()"
   ]
  },
  {
   "cell_type": "code",
   "execution_count": 149,
   "id": "99cededb-eeed-4ef9-8bce-fafb539343aa",
   "metadata": {},
   "outputs": [
    {
     "data": {
      "text/plain": [
       "''"
      ]
     },
     "execution_count": 149,
     "metadata": {},
     "output_type": "execute_result"
    }
   ],
   "source": [
    "f.read(10)"
   ]
  },
  {
   "cell_type": "code",
   "execution_count": 151,
   "id": "c7b51ca5-6af2-484f-958d-055452bbf755",
   "metadata": {},
   "outputs": [
    {
     "data": {
      "text/plain": [
       "54"
      ]
     },
     "execution_count": 151,
     "metadata": {},
     "output_type": "execute_result"
    }
   ],
   "source": [
    "f.tell()"
   ]
  },
  {
   "cell_type": "code",
   "execution_count": 153,
   "id": "2368fdea-579c-4195-b8c4-ef76bb42b498",
   "metadata": {},
   "outputs": [
    {
     "data": {
      "text/plain": [
       "20"
      ]
     },
     "execution_count": 153,
     "metadata": {},
     "output_type": "execute_result"
    }
   ],
   "source": [
    "f.seek(20)"
   ]
  },
  {
   "cell_type": "code",
   "execution_count": 155,
   "id": "d34c7a12-e3ba-43d6-94ce-21608ddeb649",
   "metadata": {},
   "outputs": [
    {
     "data": {
      "text/plain": [
       "20"
      ]
     },
     "execution_count": 155,
     "metadata": {},
     "output_type": "execute_result"
    }
   ],
   "source": [
    "f.tell()"
   ]
  },
  {
   "cell_type": "code",
   "execution_count": 157,
   "id": "a9e8bac4-2f3d-4888-aedc-f6629cc57625",
   "metadata": {},
   "outputs": [
    {
     "data": {
      "text/plain": [
       "'This '"
      ]
     },
     "execution_count": 157,
     "metadata": {},
     "output_type": "execute_result"
    }
   ],
   "source": [
    "f.read(5)"
   ]
  },
  {
   "cell_type": "code",
   "execution_count": 159,
   "id": "8a07a271-7855-4f7c-9b7c-e34b4a602393",
   "metadata": {},
   "outputs": [
    {
     "data": {
      "text/plain": [
       "25"
      ]
     },
     "execution_count": 159,
     "metadata": {},
     "output_type": "execute_result"
    }
   ],
   "source": [
    "f.tell()"
   ]
  },
  {
   "cell_type": "code",
   "execution_count": 161,
   "id": "32e44a64-709b-4d12-8a29-18f90551641d",
   "metadata": {},
   "outputs": [
    {
     "name": "stdout",
     "output_type": "stream",
     "text": [
      "i s   s e c o n d \n",
      " T h i s   i s   t h i r d   a a \n",
      " "
     ]
    }
   ],
   "source": [
    "for c in f.read():\n",
    "    print(c,end=' ')"
   ]
  },
  {
   "cell_type": "code",
   "execution_count": 163,
   "id": "04f635bb-26de-49db-8823-8c5c501c9e01",
   "metadata": {},
   "outputs": [
    {
     "name": "stdout",
     "output_type": "stream",
     "text": [
      "T h i s   i s   f i r s t   l i n e \n",
      " T h i s   i s   s e c o n d \n",
      " T h i s   i s   t h i r d   a a \n",
      " "
     ]
    }
   ],
   "source": [
    "f.seek(0)\n",
    "for c in f.read():\n",
    "    print(c,end=' ')"
   ]
  },
  {
   "cell_type": "code",
   "execution_count": 165,
   "id": "d9e0ff02-3c26-460b-8e7a-806f67e0f0ef",
   "metadata": {},
   "outputs": [
    {
     "name": "stdout",
     "output_type": "stream",
     "text": [
      "T * h * i * s *   * i * s *   * f * i * r * s * t *   * l * i * n * e * \n",
      " * T * h * i * s *   * i * s *   * s * e * c * o * n * d * \n",
      " * T * h * i * s *   * i * s *   * t * h * i * r * d *   * a * a * \n",
      " * "
     ]
    }
   ],
   "source": [
    "f.seek(0)\n",
    "for c in f.read():\n",
    "    print(c,end=' * ')"
   ]
  },
  {
   "cell_type": "code",
   "execution_count": 167,
   "id": "5949e65c-077a-4e9b-93c8-8cbbd102e553",
   "metadata": {},
   "outputs": [
    {
     "name": "stdout",
     "output_type": "stream",
     "text": [
      "T**h**i**s** **i**s** **f**i**r**s**t** **l**i**n**e**\n",
      "**T**h**i**s** **i**s** **s**e**c**o**n**d**\n",
      "**T**h**i**s** **i**s** **t**h**i**r**d** **a**a**\n",
      "**"
     ]
    }
   ],
   "source": [
    "f.seek(0)\n",
    "for c in f.read():\n",
    "    print(c,end='**')\n",
    "f.close()"
   ]
  },
  {
   "cell_type": "code",
   "execution_count": 169,
   "id": "01c8bddd-b9e3-4d27-947b-56dda1d66f0e",
   "metadata": {},
   "outputs": [
    {
     "ename": "ValueError",
     "evalue": "I/O operation on closed file.",
     "output_type": "error",
     "traceback": [
      "\u001b[1;31m---------------------------------------------------------------------------\u001b[0m",
      "\u001b[1;31mValueError\u001b[0m                                Traceback (most recent call last)",
      "Cell \u001b[1;32mIn[169], line 1\u001b[0m\n\u001b[1;32m----> 1\u001b[0m f\u001b[38;5;241m.\u001b[39mreadline()\n",
      "\u001b[1;31mValueError\u001b[0m: I/O operation on closed file."
     ]
    }
   ],
   "source": [
    "f.readline()#Reads everything but line by line"
   ]
  },
  {
   "cell_type": "code",
   "execution_count": 171,
   "id": "93ceea7d-f82b-406c-85a3-6c133dadedd1",
   "metadata": {},
   "outputs": [],
   "source": [
    "f=open(\"saturday.txt\")"
   ]
  },
  {
   "cell_type": "code",
   "execution_count": 173,
   "id": "7137e7ad-c6c7-4b99-a452-b66272370d05",
   "metadata": {},
   "outputs": [
    {
     "data": {
      "text/plain": [
       "['This is first line\\n', 'This is second\\n', 'This is third aa\\n']"
      ]
     },
     "execution_count": 173,
     "metadata": {},
     "output_type": "execute_result"
    }
   ],
   "source": [
    "f.readlines()"
   ]
  },
  {
   "cell_type": "code",
   "execution_count": 175,
   "id": "f9a0a71b-705d-4298-9d22-dd30ec56c824",
   "metadata": {},
   "outputs": [
    {
     "ename": "IndexError",
     "evalue": "list index out of range",
     "output_type": "error",
     "traceback": [
      "\u001b[1;31m---------------------------------------------------------------------------\u001b[0m",
      "\u001b[1;31mIndexError\u001b[0m                                Traceback (most recent call last)",
      "Cell \u001b[1;32mIn[175], line 1\u001b[0m\n\u001b[1;32m----> 1\u001b[0m f\u001b[38;5;241m.\u001b[39mreadlines()[\u001b[38;5;241m2\u001b[39m]\n",
      "\u001b[1;31mIndexError\u001b[0m: list index out of range"
     ]
    }
   ],
   "source": [
    "f.readlines()[2]"
   ]
  },
  {
   "cell_type": "code",
   "execution_count": 177,
   "id": "72b6cfad-afcd-4e20-9e3a-baab3c3c01a9",
   "metadata": {},
   "outputs": [
    {
     "data": {
      "text/plain": [
       "0"
      ]
     },
     "execution_count": 177,
     "metadata": {},
     "output_type": "execute_result"
    }
   ],
   "source": [
    "f.seek(0)"
   ]
  },
  {
   "cell_type": "code",
   "execution_count": 179,
   "id": "b51ee2f0-34df-462e-9a90-5ef751fc6407",
   "metadata": {},
   "outputs": [
    {
     "data": {
      "text/plain": [
       "'This is third aa\\n'"
      ]
     },
     "execution_count": 179,
     "metadata": {},
     "output_type": "execute_result"
    }
   ],
   "source": [
    "f.readlines()[2]"
   ]
  },
  {
   "cell_type": "code",
   "execution_count": 181,
   "id": "c3570576-eb25-4869-b227-5978d1791c33",
   "metadata": {},
   "outputs": [
    {
     "data": {
      "text/plain": [
       "[]"
      ]
     },
     "execution_count": 181,
     "metadata": {},
     "output_type": "execute_result"
    }
   ],
   "source": [
    "f.readlines()"
   ]
  },
  {
   "cell_type": "code",
   "execution_count": 183,
   "id": "5e548c87-3a5d-4eef-a7d0-e0b8a1433485",
   "metadata": {},
   "outputs": [
    {
     "name": "stdout",
     "output_type": "stream",
     "text": [
      "This is first line\n",
      "\n",
      "This is second\n",
      "\n",
      "This is third aa\n",
      "\n"
     ]
    }
   ],
   "source": [
    "f=open(\"saturday.txt\")\n",
    "for line in f.readlines():\n",
    "    print(line)"
   ]
  },
  {
   "cell_type": "code",
   "execution_count": 185,
   "id": "7cb087ea-c2e3-4f35-9397-047a083204cc",
   "metadata": {},
   "outputs": [
    {
     "name": "stdout",
     "output_type": "stream",
     "text": [
      "This is first line\n",
      "This is second\n",
      "This is third aa\n"
     ]
    }
   ],
   "source": [
    "f=open(\"saturday.txt\")\n",
    "for line in f.readlines():\n",
    "    print(line,end='')"
   ]
  },
  {
   "cell_type": "code",
   "execution_count": 5,
   "id": "d3ccabdb-6927-4b7e-97c2-e483e23b50ca",
   "metadata": {},
   "outputs": [
    {
     "name": "stdout",
     "output_type": "stream",
     "text": [
      "['a', 'b', 'c', 'd', 'A']\n"
     ]
    }
   ],
   "source": [
    "a=['a','b','c','d']\n",
    "for i in a:\n",
    "    a.append(i.upper())\n",
    "    break\n",
    "print(a)"
   ]
  },
  {
   "cell_type": "code",
   "execution_count": 3,
   "id": "40d6bbdb-97f7-4328-a5d8-d093eaf2ff28",
   "metadata": {},
   "outputs": [
    {
     "name": "stdout",
     "output_type": "stream",
     "text": [
      "['a', 'b', 'c', 'd', 'A']\n"
     ]
    }
   ],
   "source": [
    "data=['a','b','c','d']\n",
    "for i in data:\n",
    "    data.append(i.upper())\n",
    "    break\n",
    "print(data)"
   ]
  },
  {
   "cell_type": "code",
   "execution_count": 187,
   "id": "7ce602ab-7fa2-43b6-982c-c3aebbf3840f",
   "metadata": {},
   "outputs": [
    {
     "data": {
      "text/plain": [
       "67"
      ]
     },
     "execution_count": 187,
     "metadata": {},
     "output_type": "execute_result"
    }
   ],
   "source": [
    "f=open(\"saturday.txt\",'a')#if file presenet it will append if not it will create\n",
    "f.write(\"Hello Bhailog...Kaise ho...Majja Ma...ki haal chal paaji...burrrrrr\")"
   ]
  },
  {
   "cell_type": "code",
   "execution_count": 189,
   "id": "046be75f-fc3b-42b3-9fb3-e754190c5e4c",
   "metadata": {},
   "outputs": [],
   "source": [
    "f.close()"
   ]
  },
  {
   "cell_type": "code",
   "execution_count": 191,
   "id": "77e3b848-7faf-4396-866a-dbe4d94f5afe",
   "metadata": {},
   "outputs": [],
   "source": [
    "f=open(\"saturday.txt\")"
   ]
  },
  {
   "cell_type": "code",
   "execution_count": 193,
   "id": "fc1514a4-f86f-48cf-98d6-66596b916256",
   "metadata": {},
   "outputs": [],
   "source": [
    "f=open(\"st.txt\",'a')"
   ]
  },
  {
   "cell_type": "code",
   "execution_count": 205,
   "id": "96a95477-1474-4f26-b206-58aea0935993",
   "metadata": {},
   "outputs": [],
   "source": []
  },
  {
   "cell_type": "code",
   "execution_count": 207,
   "id": "4184233c-bef0-4ef4-9a9a-c601b63a2eaf",
   "metadata": {},
   "outputs": [],
   "source": [
    "x=np.linspace(0,10,5)"
   ]
  },
  {
   "cell_type": "code",
   "execution_count": 211,
   "id": "eea15b6f-fbef-45aa-bad0-8d87a4a9e1af",
   "metadata": {},
   "outputs": [
    {
     "data": {
      "text/plain": [
       "array([ 0. ,  2.5,  5. ,  7.5, 10. ])"
      ]
     },
     "execution_count": 211,
     "metadata": {},
     "output_type": "execute_result"
    }
   ],
   "source": [
    "x"
   ]
  },
  {
   "cell_type": "code",
   "execution_count": 215,
   "id": "7c66747c-59c7-46c4-9d2f-bbc420e255cd",
   "metadata": {},
   "outputs": [
    {
     "data": {
      "text/plain": [
       "array([  0.  ,   6.25,  25.  ,  56.25, 100.  ])"
      ]
     },
     "execution_count": 215,
     "metadata": {},
     "output_type": "execute_result"
    }
   ],
   "source": [
    "y=x**2\n",
    "y"
   ]
  },
  {
   "cell_type": "code",
   "execution_count": null,
   "id": "449d6b85-7a02-4f77-b0e9-e2e3ab31487d",
   "metadata": {},
   "outputs": [],
   "source": []
  },
  {
   "cell_type": "code",
   "execution_count": null,
   "id": "521e1ca4-3a41-4cac-9d32-1bc01120b307",
   "metadata": {},
   "outputs": [],
   "source": []
  },
  {
   "cell_type": "code",
   "execution_count": null,
   "id": "587398f8-c636-4a5e-9ecb-02e42d72adf4",
   "metadata": {},
   "outputs": [],
   "source": []
  },
  {
   "cell_type": "code",
   "execution_count": null,
   "id": "612573dc-4063-4f70-9c39-4743c23e67c0",
   "metadata": {},
   "outputs": [],
   "source": []
  },
  {
   "cell_type": "code",
   "execution_count": null,
   "id": "c5ecfd1d-ff67-4119-a6a0-8044c16a3550",
   "metadata": {},
   "outputs": [],
   "source": []
  },
  {
   "cell_type": "code",
   "execution_count": null,
   "id": "7c71915c-4e6f-42c5-b229-7a80ec8d0cec",
   "metadata": {},
   "outputs": [],
   "source": []
  },
  {
   "cell_type": "code",
   "execution_count": null,
   "id": "07308089-66ec-40ca-8a9a-0387e6c7aadc",
   "metadata": {},
   "outputs": [],
   "source": []
  }
 ],
 "metadata": {
  "kernelspec": {
   "display_name": "Python 3 (ipykernel)",
   "language": "python",
   "name": "python3"
  },
  "language_info": {
   "codemirror_mode": {
    "name": "ipython",
    "version": 3
   },
   "file_extension": ".py",
   "mimetype": "text/x-python",
   "name": "python",
   "nbconvert_exporter": "python",
   "pygments_lexer": "ipython3",
   "version": "3.11.7"
  }
 },
 "nbformat": 4,
 "nbformat_minor": 5
}
